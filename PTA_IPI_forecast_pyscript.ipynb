{
 "cells": [
  {
   "cell_type": "code",
   "execution_count": 1,
   "id": "37c0bef8-0cf8-4163-814b-7705eedcf592",
   "metadata": {},
   "outputs": [],
   "source": [
    "#Import numpy and pandas library\n",
    "import numpy as np\n",
    "import pandas as pd"
   ]
  },
  {
   "cell_type": "code",
   "execution_count": 2,
   "id": "92006060-c2bc-4ffa-8da5-4d321ca725b3",
   "metadata": {},
   "outputs": [],
   "source": [
    "#Import data source 1: new PTA IPI cases extracted from REALIS \n",
    "new_realis = pd.read_csv('Custom SQL Query (REALIS.MUC.INFINEON.COM)_Custom SQL Query.csv')"
   ]
  },
  {
   "cell_type": "code",
   "execution_count": 3,
   "id": "9a30280e-8d31-45f3-b7b8-c7ee9272b61b",
   "metadata": {},
   "outputs": [
    {
     "name": "stdout",
     "output_type": "stream",
     "text": [
      "<class 'pandas.core.frame.DataFrame'>\n",
      "RangeIndex: 837 entries, 0 to 836\n",
      "Data columns (total 24 columns):\n",
      " #   Column                      Non-Null Count  Dtype \n",
      "---  ------                      --------------  ----- \n",
      " 0   DESCRIPTION                 711 non-null    object\n",
      " 1   FA_ACCEPTED_DATE            125 non-null    object\n",
      " 2   FA_ANALYST                  112 non-null    object\n",
      " 3   FA_LOCATION                 837 non-null    object\n",
      " 4   LOT                         837 non-null    object\n",
      " 5   MOULD_COMPOUND              766 non-null    object\n",
      " 6   PK_PACKAGE_NAME             837 non-null    object\n",
      " 7   PLAN_TRANSFER_DAY_TO_FA     837 non-null    object\n",
      " 8   PRECEDING_STRESS_OPERATION  758 non-null    object\n",
      " 9   PRECEEDING_STRESS           837 non-null    object\n",
      " 10  PROD_BASIC_TYPE             837 non-null    object\n",
      " 11  PROJ_PROJECT_NAME           837 non-null    object\n",
      " 12  PROJ_THEMA2                 705 non-null    object\n",
      " 13  PROJECT_LINE                837 non-null    object\n",
      " 14  QM                          837 non-null    object\n",
      " 15  STARTING_MONTH              837 non-null    object\n",
      " 16  TEMPLATE_NAME               837 non-null    object\n",
      " 17  TEST_ALREADY_IN_FA          837 non-null    object\n",
      " 18  TEST_LAB_TRACKING_NO        611 non-null    object\n",
      " 19  TESTSTATE                   837 non-null    object\n",
      " 20  WIRE_DIAMETER               600 non-null    object\n",
      " 21  WIRE_MATERIAL               582 non-null    object\n",
      " 22  PRIORITY                    837 non-null    int64 \n",
      " 23  PROJ_ID                     837 non-null    int64 \n",
      "dtypes: int64(2), object(22)\n",
      "memory usage: 157.1+ KB\n"
     ]
    }
   ],
   "source": [
    "#Quick view of all data info and dtype of new PTA IPI cases extracted from REALIS \n",
    "new_realis.info()"
   ]
  },
  {
   "cell_type": "code",
   "execution_count": 4,
   "id": "6315144a-c8df-445a-90cf-ed4c2be0dfe9",
   "metadata": {},
   "outputs": [],
   "source": [
    "#Import data source 2: PTA IPI prioritization overview.xlsx\n",
    "ipi_prio = pd.read_excel('PTA IPI prioritization overview.xlsx', sheet_name='all_cases')"
   ]
  },
  {
   "cell_type": "code",
   "execution_count": 5,
   "id": "2d108c96-b8ea-41f4-9d6b-b74f0313e93b",
   "metadata": {},
   "outputs": [
    {
     "name": "stdout",
     "output_type": "stream",
     "text": [
      "<class 'pandas.core.frame.DataFrame'>\n",
      "RangeIndex: 830 entries, 0 to 829\n",
      "Data columns (total 27 columns):\n",
      " #   Column                      Non-Null Count  Dtype         \n",
      "---  ------                      --------------  -----         \n",
      " 0   DESCRIPTION                 699 non-null    object        \n",
      " 1   FA_ACCEPTED_DATE            73 non-null     datetime64[ns]\n",
      " 2   FA_ANALYST                  53 non-null     object        \n",
      " 3   FA_LOCATION                 770 non-null    object        \n",
      " 4   LOT                         826 non-null    object        \n",
      " 5   MOULD_COMPOUND              742 non-null    object        \n",
      " 6   PK_PACKAGE_NAME             830 non-null    object        \n",
      " 7   PLAN_TRANSFER_DAY_TO_FA     803 non-null    object        \n",
      " 8   PRECEDING_STRESS_OPERATION  759 non-null    object        \n",
      " 9   PRECEEDING_STRESS           830 non-null    object        \n",
      " 10  PROD_BASIC_TYPE             830 non-null    object        \n",
      " 11  PROJ_PROJECT_NAME           770 non-null    object        \n",
      " 12  PROJ_THEMA2                 693 non-null    object        \n",
      " 13  PROJECT_LINE                786 non-null    object        \n",
      " 14  QM                          830 non-null    object        \n",
      " 15  STARTING_MONTH              770 non-null    object        \n",
      " 16  TEMPLATE_NAME               830 non-null    object        \n",
      " 17  TEST_ALREADY_IN_FA          770 non-null    object        \n",
      " 18  TEST_LAB_TRACKING_NO        614 non-null    object        \n",
      " 19  TESTSTATE                   773 non-null    object        \n",
      " 20  WIRE_DIAMETER               636 non-null    object        \n",
      " 21  WIRE_MATERIAL               602 non-null    object        \n",
      " 22  PRIORITY                    770 non-null    float64       \n",
      " 23  PROJ_ID                     830 non-null    object        \n",
      " 24  RQ Prioritization           144 non-null    object        \n",
      " 25  Justification               61 non-null     float64       \n",
      " 26  Client Prioritization       61 non-null     object        \n",
      "dtypes: datetime64[ns](1), float64(2), object(24)\n",
      "memory usage: 175.2+ KB\n"
     ]
    }
   ],
   "source": [
    "#Quick view of all data info and dtype of PTA IPI prioritization overview.xlsx\n",
    "ipi_prio.info()"
   ]
  },
  {
   "cell_type": "code",
   "execution_count": 6,
   "id": "eccf10fd-d4e2-46c8-bd02-160e2d99b3b1",
   "metadata": {},
   "outputs": [],
   "source": [
    "#Data clean: remove the rows with no TEST_LAB_TRACKING_NO for new_realis\n",
    "new_realis = new_realis[new_realis['TEST_LAB_TRACKING_NO'].isnull()==False]"
   ]
  },
  {
   "cell_type": "code",
   "execution_count": 7,
   "id": "914d72cc-132e-41b5-bb7b-f10e770695c4",
   "metadata": {},
   "outputs": [],
   "source": [
    "#Data clean: remove the rows with no TEST_LAB_TRACKING_NO for ipi_prio\n",
    "ipi_prio = ipi_prio[ipi_prio['TEST_LAB_TRACKING_NO'].isnull()==False]"
   ]
  },
  {
   "cell_type": "code",
   "execution_count": 8,
   "id": "07691e7e-7bff-4c0d-a87d-fbf6c0bf4d1c",
   "metadata": {},
   "outputs": [],
   "source": [
    "#Data clean: change 'FA_ACCEPTED_DATE' and 'PLAN_TRANSFER_DAY_TO_FA' to datetime type to standize with ipi_prio\n",
    "new_realis['FA_ACCEPTED_DATE'] = pd.to_datetime(new_realis['FA_ACCEPTED_DATE'])\n",
    "new_realis['PLAN_TRANSFER_DAY_TO_FA'] = pd.to_datetime(new_realis['PLAN_TRANSFER_DAY_TO_FA'])"
   ]
  },
  {
   "cell_type": "code",
   "execution_count": 9,
   "id": "c5c74a1b-1285-4900-a17e-68137f93d2a8",
   "metadata": {},
   "outputs": [
    {
     "name": "stdout",
     "output_type": "stream",
     "text": [
      "<class 'pandas.core.frame.DataFrame'>\n",
      "Int64Index: 614 entries, 0 to 829\n",
      "Data columns (total 4 columns):\n",
      " #   Column                 Non-Null Count  Dtype  \n",
      "---  ------                 --------------  -----  \n",
      " 0   RQ Prioritization      121 non-null    object \n",
      " 1   Client Prioritization  60 non-null     object \n",
      " 2   Justification          60 non-null     float64\n",
      " 3   TEST_LAB_TRACKING_NO   614 non-null    object \n",
      "dtypes: float64(1), object(3)\n",
      "memory usage: 24.0+ KB\n"
     ]
    }
   ],
   "source": [
    "#Select columns from ipi_prio for table merge\n",
    "add_columns = list(set(ipi_prio.columns) - set(ipi_prio.columns.intersection(new_realis.columns)))\n",
    "add_columns.append('TEST_LAB_TRACKING_NO')\n",
    "ipi_prio_add = ipi_prio[add_columns]\n",
    "ipi_prio_add.info()"
   ]
  },
  {
   "cell_type": "code",
   "execution_count": 10,
   "id": "e1ff475b-5e5c-4057-b175-34bbbb586356",
   "metadata": {},
   "outputs": [],
   "source": [
    "#New REALIS cases mapped with RQ prioritization: new_realis left join ipi_prio_add\n",
    "forecast = new_realis.merge(ipi_prio_add, how='left', on=['TEST_LAB_TRACKING_NO'])"
   ]
  },
  {
   "cell_type": "code",
   "execution_count": 11,
   "id": "9f7fc8cb-e29d-44b7-83f5-759979763991",
   "metadata": {},
   "outputs": [
    {
     "name": "stdout",
     "output_type": "stream",
     "text": [
      "<class 'pandas.core.frame.DataFrame'>\n",
      "Int64Index: 611 entries, 0 to 610\n",
      "Data columns (total 27 columns):\n",
      " #   Column                      Non-Null Count  Dtype         \n",
      "---  ------                      --------------  -----         \n",
      " 0   DESCRIPTION                 593 non-null    object        \n",
      " 1   FA_ACCEPTED_DATE            125 non-null    datetime64[ns]\n",
      " 2   FA_ANALYST                  112 non-null    object        \n",
      " 3   FA_LOCATION                 611 non-null    object        \n",
      " 4   LOT                         611 non-null    object        \n",
      " 5   MOULD_COMPOUND              561 non-null    object        \n",
      " 6   PK_PACKAGE_NAME             611 non-null    object        \n",
      " 7   PLAN_TRANSFER_DAY_TO_FA     611 non-null    datetime64[ns]\n",
      " 8   PRECEDING_STRESS_OPERATION  536 non-null    object        \n",
      " 9   PRECEEDING_STRESS           611 non-null    object        \n",
      " 10  PROD_BASIC_TYPE             611 non-null    object        \n",
      " 11  PROJ_PROJECT_NAME           611 non-null    object        \n",
      " 12  PROJ_THEMA2                 596 non-null    object        \n",
      " 13  PROJECT_LINE                611 non-null    object        \n",
      " 14  QM                          611 non-null    object        \n",
      " 15  STARTING_MONTH              611 non-null    object        \n",
      " 16  TEMPLATE_NAME               611 non-null    object        \n",
      " 17  TEST_ALREADY_IN_FA          611 non-null    object        \n",
      " 18  TEST_LAB_TRACKING_NO        611 non-null    object        \n",
      " 19  TESTSTATE                   611 non-null    object        \n",
      " 20  WIRE_DIAMETER               457 non-null    object        \n",
      " 21  WIRE_MATERIAL               448 non-null    object        \n",
      " 22  PRIORITY                    611 non-null    int64         \n",
      " 23  PROJ_ID                     611 non-null    int64         \n",
      " 24  RQ Prioritization           62 non-null     object        \n",
      " 25  Client Prioritization       1 non-null      object        \n",
      " 26  Justification               1 non-null      float64       \n",
      "dtypes: datetime64[ns](2), float64(1), int64(2), object(22)\n",
      "memory usage: 133.7+ KB\n"
     ]
    }
   ],
   "source": [
    "#Check the new dataframe after table merge\n",
    "forecast.info()"
   ]
  },
  {
   "cell_type": "code",
   "execution_count": 12,
   "id": "a3b079a7-e7e8-409f-9f17-e5bb0130b067",
   "metadata": {},
   "outputs": [],
   "source": [
    "#Get all subcon cases from ipi_prio\n",
    "subcon_cases = ipi_prio[ipi_prio['TEST_LAB_TRACKING_NO'].map(lambda x: isinstance(x,int))]"
   ]
  },
  {
   "cell_type": "code",
   "execution_count": 13,
   "id": "59362737-a32c-42e6-a994-020d60ef69ee",
   "metadata": {},
   "outputs": [],
   "source": [
    "#Add all subcon cases to the new dataframe\n",
    "forecast = pd.concat(objs = [forecast, subcon_cases], axis = 0, ignore_index=True)"
   ]
  },
  {
   "cell_type": "code",
   "execution_count": 14,
   "id": "93199876-b1b2-4f72-bf3e-9472883674ae",
   "metadata": {},
   "outputs": [
    {
     "name": "stdout",
     "output_type": "stream",
     "text": [
      "<class 'pandas.core.frame.DataFrame'>\n",
      "RangeIndex: 658 entries, 0 to 657\n",
      "Data columns (total 27 columns):\n",
      " #   Column                      Non-Null Count  Dtype         \n",
      "---  ------                      --------------  -----         \n",
      " 0   DESCRIPTION                 640 non-null    object        \n",
      " 1   FA_ACCEPTED_DATE            125 non-null    datetime64[ns]\n",
      " 2   FA_ANALYST                  112 non-null    object        \n",
      " 3   FA_LOCATION                 611 non-null    object        \n",
      " 4   LOT                         658 non-null    object        \n",
      " 5   MOULD_COMPOUND              608 non-null    object        \n",
      " 6   PK_PACKAGE_NAME             658 non-null    object        \n",
      " 7   PLAN_TRANSFER_DAY_TO_FA     632 non-null    object        \n",
      " 8   PRECEDING_STRESS_OPERATION  583 non-null    object        \n",
      " 9   PRECEEDING_STRESS           658 non-null    object        \n",
      " 10  PROD_BASIC_TYPE             658 non-null    object        \n",
      " 11  PROJ_PROJECT_NAME           611 non-null    object        \n",
      " 12  PROJ_THEMA2                 643 non-null    object        \n",
      " 13  PROJECT_LINE                620 non-null    object        \n",
      " 14  QM                          658 non-null    object        \n",
      " 15  STARTING_MONTH              611 non-null    object        \n",
      " 16  TEMPLATE_NAME               658 non-null    object        \n",
      " 17  TEST_ALREADY_IN_FA          611 non-null    object        \n",
      " 18  TEST_LAB_TRACKING_NO        658 non-null    object        \n",
      " 19  TESTSTATE                   613 non-null    object        \n",
      " 20  WIRE_DIAMETER               504 non-null    object        \n",
      " 21  WIRE_MATERIAL               495 non-null    object        \n",
      " 22  PRIORITY                    611 non-null    float64       \n",
      " 23  PROJ_ID                     658 non-null    object        \n",
      " 24  RQ Prioritization           109 non-null    object        \n",
      " 25  Client Prioritization       48 non-null     object        \n",
      " 26  Justification               48 non-null     float64       \n",
      "dtypes: datetime64[ns](1), float64(2), object(24)\n",
      "memory usage: 138.9+ KB\n"
     ]
    }
   ],
   "source": [
    "#Check the new dataframe after subcon cases added\n",
    "forecast.info()"
   ]
  },
  {
   "cell_type": "code",
   "execution_count": 15,
   "id": "91178d9f-90a3-4e41-9951-ce5f0c111332",
   "metadata": {},
   "outputs": [],
   "source": [
    "#Output the new dataframe to Excel file named as forecastmain.xlsx\n",
    "forecast.to_excel('forecastmain.xlsx', sheet_name='all_cases', index=False)"
   ]
  },
  {
   "cell_type": "code",
   "execution_count": null,
   "id": "7deae2a1-4255-4b17-a962-d3a2c89dc71f",
   "metadata": {},
   "outputs": [],
   "source": []
  }
 ],
 "metadata": {
  "kernelspec": {
   "display_name": "dsi-sg",
   "language": "python",
   "name": "dsi-sg"
  },
  "language_info": {
   "codemirror_mode": {
    "name": "ipython",
    "version": 3
   },
   "file_extension": ".py",
   "mimetype": "text/x-python",
   "name": "python",
   "nbconvert_exporter": "python",
   "pygments_lexer": "ipython3",
   "version": "3.9.13"
  }
 },
 "nbformat": 4,
 "nbformat_minor": 5
}
